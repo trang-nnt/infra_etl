{
 "cells": [
  {
   "cell_type": "code",
   "execution_count": null,
   "id": "6251f269",
   "metadata": {},
   "outputs": [],
   "source": [
    "import pandas as pd"
   ]
  },
  {
   "cell_type": "code",
   "execution_count": null,
   "id": "8961f763",
   "metadata": {},
   "outputs": [],
   "source": [
    "# Pandas read parquet from minio\n",
    "df= pd.read_parquet(\"s3://testminio/cbc_add.parquet\",\n",
    "                    storage_options={\"key\":\"minio_access_key\",\n",
    "                                     \"secret\":\"minio_secret_key\",\n",
    "                                     \"client_kwargs\":{\"endpoint_url\":\"http://127.0.0.1:9000\"}\n",
    "                                     }\n",
    "                    )\n",
    "df.head(3)"
   ]
  }
 ],
 "metadata": {
  "kernelspec": {
   "display_name": "base",
   "language": "python",
   "name": "python3"
  },
  "language_info": {
   "codemirror_mode": {
    "name": "ipython",
    "version": 3
   },
   "file_extension": ".py",
   "mimetype": "text/x-python",
   "name": "python",
   "nbconvert_exporter": "python",
   "pygments_lexer": "ipython3",
   "version": "3.11.5"
  }
 },
 "nbformat": 4,
 "nbformat_minor": 5
}
