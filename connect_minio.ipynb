{
 "cells": [
  {
   "cell_type": "code",
   "execution_count": null,
   "id": "6251f269",
   "metadata": {},
   "outputs": [],
   "source": [
    "import pandas as pd"
   ]
  },
  {
   "cell_type": "code",
   "execution_count": null,
   "id": "8961f763",
   "metadata": {},
   "outputs": [],
   "source": [
    "# Pandas read parquet from minio\n",
    "df= pd.read_parquet(\"s3://testminio/cbc_add.parquet\",\n",
    "                    storage_options={\"key\":\"minio_access_key\",\n",
    "                                     \"secret\":\"minio_secret_key\",\n",
    "                                     \"client_kwargs\":{\"endpoint_url\":\"http://127.0.0.1:9000\"}\n",
    "                                     }\n",
    "                    )\n",
    "df.head(3)"
   ]
  }
 ],
 "metadata": {
  "language_info": {
   "name": "python"
  }
 },
 "nbformat": 4,
 "nbformat_minor": 5
}
